{
  "cells": [
    {
      "cell_type": "markdown",
      "metadata": {
        "id": "Hf5-5vNv_Av4"
      },
      "source": [
        "# Bem-vindo ao teste técnico de Data Science da Stone!!!!"
      ]
    },
    {
      "cell_type": "markdown",
      "metadata": {
        "id": "8y3QfUTw_JTe"
      },
      "source": [
        "Informações importantes:\n",
        "\n",
        "- Você terá 1 semana para completar o teste, contando a partir da data de recebimento do mesmo.\n",
        "- A utilização de GLMs e LLMs não apenas é permitida, como também recomendada.\n",
        "- Não é permitido compartilhar este teste. No entanto, isso não impede que você solicite ajuda a outras pessoas.\n",
        "\n",
        "Bom teste!"
      ]
    },
    {
      "cell_type": "markdown",
      "metadata": {
        "id": "Bsya8dONAD_p"
      },
      "source": [
        "O objetivo deste teste é criar um modelo capaz de prever o TPV (Total de Pagamentos Volumétricos) de adquirência de um cliente. Para isso, foi elaborada uma tabela com dados anonimizados (data.csv) que inclui 13 features mais a variável dependente. A interpretação do significado das variáveis também é parte do teste, com exceção de:\n",
        "\n",
        "- **stone_tpv_acquirer_total** (variável dependente, indica o TPV oriundo da adquirência)\n",
        "- **segmento** (indica o segmento de mercado do cliente - ex: Casa e Decoração)\n",
        "\n",
        "É importante notar que, devido à anonimização dos dados, as features **porte**, **faixa_empregados** e **tier** passaram por um processo de label encoding. Neste processo, não foi mantida a relação de ordenação entre os elementos. Por exemplo, observando a coluna de **faixa_empregados**, um cliente que está na faixa 2 não necessariamente possui mais empregados que um na faixa 1; eles estão apenas em faixas diferentes.\n",
        "\n",
        "Assim, é esperado ao fim deste teste:\n",
        "\n",
        "- Uma análise exploratória.\n",
        "- Um modelo de predição para a feature **stone_tpv_acquirer_total**.\n",
        "- Um plano de implantação do modelo, que pode ser desenvolvido em ferramentas como Figma, ou mesmo a implementação deste modelo. São esperadas boas práticas, como Continuous Training e Continuous Deployment."
      ]
    }
  ],
  "metadata": {
    "colab": {
      "provenance": []
    },
    "kernelspec": {
      "display_name": "Python 3",
      "name": "python3"
    },
    "language_info": {
      "name": "python"
    }
  },
  "nbformat": 4,
  "nbformat_minor": 0
}
